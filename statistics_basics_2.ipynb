{
 "cells": [
  {
   "cell_type": "code",
   "execution_count": 1,
   "id": "740fc3a9-fe30-4cda-907a-2c89730bcf05",
   "metadata": {},
   "outputs": [],
   "source": [
    "#1.What are the three measures of central tendency?"
   ]
  },
  {
   "cell_type": "markdown",
   "id": "65469013-6640-40c4-87ec-ecd20a66bde8",
   "metadata": {},
   "source": [
    "The three measures of central tendency are the mean, median, and mode.\n",
    "\n",
    "Mean: The mean is the average of a set of numbers. It is calculated by adding up all the numbers in the set and then dividing by the total number of values.\n",
    "\n",
    "Median: The median is the middle value in a set of numbers when they are arranged in order. If there is an even number of values, the median is the average of the two middle values.\n",
    "\n",
    "Mode: The mode is the value that appears most frequently in a set of numbers. A set of numbers can have one mode, more than one mode (multimodal), or no mode if no value appears more than once."
   ]
  },
  {
   "cell_type": "markdown",
   "id": "984053b9-915c-414d-b71a-f96040a90e3e",
   "metadata": {},
   "source": [
    "#2.What is the difference between the mean, median, and mode? How are they used to measure the central tendency of a dataset?"
   ]
  },
  {
   "cell_type": "markdown",
   "id": "9ae799cd-48ab-48c7-b5f9-5a20d27bf593",
   "metadata": {},
   "source": [
    "Mean: The mean is the average of a set of numbers. It is calculated by adding up all the values in the data set and then dividing by the total number of values. The mean is sensitive to outliers, meaning that extreme values can greatly affect its value. The mean is often used when the data is normally distributed and there are no significant outliers.\n",
    "\n",
    "Median: The median is the middle value in a data set when the values are arranged in order. If there is an even number of values, the median is the average of the two middle values. The median is not affected by extreme values or outliers, making it a more robust measure of central tendency in such cases. The median is often used when the data set is skewed or when there are outliers present.\n",
    "\n",
    "Mode: The mode is the value that occurs most frequently in a data set. A data set can have one mode (unimodal), more than one mode (multimodal), or no mode if all values occur with the same frequency. The mode is useful for describing the most common value or values in a data set, but it does not provide information about the spread of the data."
   ]
  },
  {
   "cell_type": "code",
   "execution_count": 5,
   "id": "35e7b3fc-f649-4f78-ad4d-3cf440d4e515",
   "metadata": {},
   "outputs": [],
   "source": [
    "#3.Q3. Measure the three measures of central tendency for the given height data:[178,177,176,177,178.2,178,175,179,180,175,178.9,176.2,177,172.5,178,176.5]"
   ]
  },
  {
   "cell_type": "markdown",
   "id": "a1cd6553-8502-47dd-b600-d687708f68cd",
   "metadata": {},
   "source": [
    "Mean: Add up all the values and divide by the total number of values.\n",
    "\n",
    "Mean\n",
    " ≈176.9875\n",
    "Median: Arrange the values in ascending order and find the middle value.\n",
    "Sorted data: [172.5, 175, 175, 176, 176, 176.2, 176.5, 177, 177, 177, 178, 178, 178, 178.2, 178.9, 179, 180]\n",
    "The median is the average of the two middle values: (177 + 178) / 2 = 177.5\n",
    "\n",
    "Mode: Identify the value that occurs most frequently.\n",
    "The mode is 178, which occurs 4 times in the data set.\n",
    "\n",
    "So, the mean height is approximately 176.9875, the median height is 177.5, and the mode height is 178.\n"
   ]
  },
  {
   "cell_type": "code",
   "execution_count": 6,
   "id": "01588f8f-9ebe-435d-94dd-4b6b5cf021eb",
   "metadata": {},
   "outputs": [],
   "source": [
    "#Q4. Find the standard deviation for the given data:[178,177,176,177,178.2,178,175,179,180,175,178.9,176.2,177,172.5,178,176.5]"
   ]
  },
  {
   "cell_type": "markdown",
   "id": "c43ebb89-56d7-4572-ae3b-cdf5711bc885",
   "metadata": {},
   "source": [
    "Standard deviation:\n",
    "Standard deviation= \n",
    "sqrt(1.11644043)\n",
    " ≈1.05607"
   ]
  },
  {
   "cell_type": "code",
   "execution_count": 7,
   "id": "39ff975e-5aac-4ca7-bbcf-317791249832",
   "metadata": {},
   "outputs": [],
   "source": [
    "#5.How are measures of dispersion such as range, variance, and standard deviation used to describe the spread of a dataset? Provide an example."
   ]
  },
  {
   "cell_type": "markdown",
   "id": "c0d3e5a8-0ed8-4d90-8de3-31a28b817e35",
   "metadata": {},
   "source": [
    "measures of dispersion like range, variance, and standard deviation help describe how spread out the values in a dataset are:\n",
    "\n",
    "Range is the difference between the highest and lowest values, providing a basic idea of spread but sensitive to outliers.\n",
    "Variance is the average of the squared differences from the mean, offering a precise but less interpretable measure.\n",
    "Standard deviation is the square root of the variance and is in the same unit as the original data, making it a commonly used measure for its intuitive understanding of spread.\n",
    "\n",
    "\n",
    "\n",
    "\n"
   ]
  },
  {
   "cell_type": "code",
   "execution_count": 8,
   "id": "7b21349b-110e-4bc5-82d1-07c9618f4a30",
   "metadata": {},
   "outputs": [],
   "source": [
    "#Q6. What is a Venn diagram?"
   ]
  },
  {
   "cell_type": "markdown",
   "id": "1bd6377a-3cd6-4282-967b-c06186be7c95",
   "metadata": {},
   "source": [
    "\n",
    "A Venn diagram is a visual representation of the relationships between different sets of data. It consists of overlapping circles, each representing a set, with the overlapping sections showing common elements between the sets. Venn diagrams are commonly used in mathematics, statistics, logic, and computer science to illustrate concepts such as set intersection, union, and complementation. They are helpful for visualizing the relationships and similarities/differences between different groups or categories of data."
   ]
  },
  {
   "cell_type": "code",
   "execution_count": 9,
   "id": "70a53b61-58bd-4eda-96f6-ad2995a060c7",
   "metadata": {},
   "outputs": [],
   "source": [
    "#Q7. For the two given sets A = (2,3,4,5,6,7) & B = (0,2,6,8,10). Find: (i) A ∩ B  (ii) A ⋃ B"
   ]
  },
  {
   "cell_type": "markdown",
   "id": "91292cb9-d7bb-4782-acf8-b795379b158d",
   "metadata": {},
   "source": [
    "(i) Intersection of A and B (A ∩ B):\n",
    "The intersection of two sets contains only the elements that are present in both sets.\n",
    "\n",
    "A ∩ B = {2, 6}\n",
    "\n",
    "(ii) Union of A and B (A ∪ B):\n",
    "The union of two sets contains all unique elements from both sets.\n",
    "\n",
    "A ∪ B = {0, 2, 3, 4, 5, 6, 7, 8, 10}"
   ]
  },
  {
   "cell_type": "code",
   "execution_count": 10,
   "id": "e99ec0bf-1f60-4434-ac4b-7d2c7a1f90cc",
   "metadata": {},
   "outputs": [],
   "source": [
    "#Q8.What do you understand about skewness in data?"
   ]
  },
  {
   "cell_type": "markdown",
   "id": "743e856c-c6c9-41d8-894e-03f99ad54d61",
   "metadata": {},
   "source": [
    "Skewness in data is a measure of the asymmetry of the distribution of values. It indicates whether the data is skewed to the left (negatively skewed), skewed to the right (positively skewed), or symmetrically distributed.\n",
    "\n",
    "Negatively skewed (left-skewed) data: In a negatively skewed distribution, the tail of the distribution extends to the left, and the mean is typically less than the median. This indicates that there are more values concentrated on the right side of the distribution.\n",
    "\n",
    "Positively skewed (right-skewed) data: In a positively skewed distribution, the tail of the distribution extends to the right, and the mean is typically greater than the median. This suggests that there are more values concentrated on the left side of the distribution.\n",
    "\n",
    "Symmetrically distributed data: In a symmetric distribution, the data is evenly distributed around the mean, and the mean and median are approximately equal.\n",
    "\n",
    "Skewness is important because it can affect the interpretation of data and the choice of statistical analysis. For example, in positively skewed data, the mean may not be a good measure of central tendency, and it might be more appropriate to use the median.\n"
   ]
  },
  {
   "cell_type": "code",
   "execution_count": 11,
   "id": "db4d2b81-73cb-4671-9429-a24aefcaa2a2",
   "metadata": {},
   "outputs": [],
   "source": [
    "#Q9. If a data is right skewed then what will be the position of median with respect to mean?"
   ]
  },
  {
   "cell_type": "markdown",
   "id": "067b0744-3baf-4f8e-8b4d-4743121d7339",
   "metadata": {},
   "source": [
    "If a dataset is right-skewed, the median will be less than the mean. This is because in a right-skewed distribution, the tail of the distribution extends to the right, pulling the mean in that direction. Since the median is less affected by extreme values than the mean, it tends to be closer to the center of the data and less influenced by the skewness.\n",
    "\n",
    "\n",
    "\n",
    "\n",
    "\n"
   ]
  },
  {
   "cell_type": "code",
   "execution_count": null,
   "id": "cef998ea-4bd2-4dde-a61d-cb1405de9aa3",
   "metadata": {},
   "outputs": [],
   "source": [
    "#Q10. Explain the difference between covariance and correlation. How are these measures used in statistical analysis?"
   ]
  },
  {
   "cell_type": "markdown",
   "id": "4d0ac1f5-ef5d-4309-b9e3-e5e80946b8e7",
   "metadata": {},
   "source": [
    "\n",
    "Covariance measures the direction of the relationship between two variables, but not its strength, and is affected by the scale of the variables. Correlation, on the other hand, measures both the direction and strength of the relationship, is unitless, and is not affected by the scale of the variables."
   ]
  },
  {
   "cell_type": "code",
   "execution_count": 14,
   "id": "a2b547fd-f7a2-4091-b6dd-2992a969e438",
   "metadata": {},
   "outputs": [],
   "source": [
    "#Q11. What is the formula for calculating the sample mean? Provide an example calculation for a dataset."
   ]
  },
  {
   "cell_type": "markdown",
   "id": "b20eec92-99b7-46b2-8511-af798ef12f65",
   "metadata": {},
   "source": [
    "Sample Mean= sum of all data points/number of data points\n",
    "ex:consider the dataset:[10,15,20,25,30]\n",
    "sample mean=10+15+20+25+30/5=20"
   ]
  },
  {
   "cell_type": "code",
   "execution_count": 15,
   "id": "7f84e049-1c42-45d3-aa65-c7845e54855f",
   "metadata": {},
   "outputs": [],
   "source": [
    "#Q12. For a normal distribution data what is the relationship between its measure of central tendency?"
   ]
  },
  {
   "cell_type": "markdown",
   "id": "cd831d81-cc80-4cc3-9e0b-3014b088679d",
   "metadata": {},
   "source": [
    "\n",
    "For a normal distribution, the mean, median, and mode are all equal. This is a key characteristic of the normal distribution and is known as symmetry. In a normal distribution, the data is symmetrically distributed around the mean, with the mean being located at the center of the distribution. As a result, the mean, median, and mode all have the same value, making them equal in a normal distribution.\n",
    "\n",
    "\n",
    "\n",
    "\n"
   ]
  },
  {
   "cell_type": "code",
   "execution_count": null,
   "id": "fd71a531-3522-4716-993b-0bc362bdb460",
   "metadata": {},
   "outputs": [],
   "source": [
    "#Q13. How is covariance different from correlation?"
   ]
  },
  {
   "cell_type": "markdown",
   "id": "54ef0495-bcde-4d61-8151-dae1d8d9fcd5",
   "metadata": {},
   "source": [
    "Definition:\n",
    "\n",
    "Covariance measures the extent to which two variables change together. It indicates the direction of the linear relationship between variables (positive, negative, or no relationship) but does not provide the strength of the relationship.\n",
    "Correlation is a standardized measure of the linear relationship between two variables. It provides the direction and strength of the relationship, ranging from -1 to 1.\n",
    "Scale:\n",
    "\n",
    "Covariance is not standardized and its units are the product of the units of the two variables (e.g., if one variable is in meters and the other is in kilograms, the covariance would be in meter-kilograms).\n",
    "Correlation is unitless and is not affected by the scale of the variables.\n",
    "Interpretation:\n",
    "\n",
    "Covariance can take any value, with larger absolute values indicating a stronger relationship (positive or negative).\n",
    "Correlation values range from -1 to 1, where a correlation of 1 indicates a perfect positive linear relationship, -1 indicates a perfect negative linear relationship, and 0 indicates no linear relationship.\n",
    "Use:\n",
    "\n",
    "Covariance is used to determine the direction of the relationship between variables, but its magnitude is difficult to interpret due to the units involved.\n",
    "Correlation is used to quantify the strength and direction of the linear relationship between variables, providing a more interpretable measure than covariance."
   ]
  },
  {
   "cell_type": "code",
   "execution_count": 17,
   "id": "dfe48b89-5576-4cef-887b-75ac43ac6ea6",
   "metadata": {},
   "outputs": [],
   "source": [
    "#Q14. How do outliers affect measures of central tendency and dispersion? Provide an example."
   ]
  },
  {
   "cell_type": "markdown",
   "id": "712158d9-14d9-4ebc-b611-a89b04de2378",
   "metadata": {},
   "source": [
    "Outliers can have a significant impact on measures of central tendency and dispersion:\n",
    "\n",
    "Measures of Central Tendency:\n",
    "\n",
    "Mean: Outliers can greatly affect the mean, pulling it towards the extreme value. This can result in a mean that does not accurately represent the central value of the data.\n",
    "Median: The median is less affected by outliers compared to the mean, making it a more robust measure of central tendency in the presence of outliers.\n",
    "Mode: The mode is not affected by outliers since it is simply the most frequently occurring value in the dataset.\n",
    "Measures of Dispersion:\n",
    "\n",
    "Range: Outliers can increase the range, which is the difference between the maximum and minimum values. This can result in an overestimation of the spread of the data.\n",
    "Variance and Standard Deviation: Outliers can increase the variance and standard deviation, as these measures are based on the squared differences from the mean. Outliers with large deviations from the mean can inflate these measures.\n",
    "Example:\n",
    "Consider the dataset [10, 12, 14, 16, 18, 200]. Without the outlier (200), the mean is 15. However, with the outlier included, the mean becomes 45. This shows how the outlier significantly affects the mean. The median, on the other hand, remains unaffected by the outlier, as it is still 15. The range is also affected, increasing from 10 to 190 when the outlier is included.\n",
    "\n",
    "\n",
    "\n",
    "\n",
    "\n"
   ]
  },
  {
   "cell_type": "code",
   "execution_count": null,
   "id": "d2fe12d5-87ed-41ad-9c17-f1d79a019ea2",
   "metadata": {},
   "outputs": [],
   "source": []
  }
 ],
 "metadata": {
  "kernelspec": {
   "display_name": "Python 3 (ipykernel)",
   "language": "python",
   "name": "python3"
  },
  "language_info": {
   "codemirror_mode": {
    "name": "ipython",
    "version": 3
   },
   "file_extension": ".py",
   "mimetype": "text/x-python",
   "name": "python",
   "nbconvert_exporter": "python",
   "pygments_lexer": "ipython3",
   "version": "3.11.8"
  }
 },
 "nbformat": 4,
 "nbformat_minor": 5
}
